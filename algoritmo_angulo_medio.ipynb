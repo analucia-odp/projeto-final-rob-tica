{
 "cells": [
  {
   "cell_type": "markdown",
   "metadata": {},
   "source": [
    "## IMPORTS"
   ]
  },
  {
   "cell_type": "code",
   "execution_count": 1,
   "metadata": {},
   "outputs": [],
   "source": [
    "import numpy as np\n",
    "import math\n",
    "from scipy.spatial.distance import euclidean\n",
    "from scipy.optimize import linear_sum_assignment\n",
    "from utils.angle import angle_mod, rot_mat_2d\n",
    "from math import sin, cos, atan2, sqrt, acos, pi, hypot\n",
    "from scipy.spatial import distance_matrix\n",
    "from itertools import permutations\n",
    "import matplotlib.pyplot as plt\n"
   ]
  },
  {
   "cell_type": "markdown",
   "metadata": {},
   "source": [
    "## DTSP"
   ]
  },
  {
   "cell_type": "code",
   "execution_count": 773,
   "metadata": {},
   "outputs": [],
   "source": [
    "\"\"\"\n",
    "\n",
    "Dubins path planner sample code\n",
    "\n",
    "author Atsushi Sakai(@Atsushi_twi)\n",
    "\n",
    "\"\"\"\n",
    "\n",
    "def plan_dubins_path(s_x, s_y, s_yaw, g_x, g_y, g_yaw, curvature,\n",
    "                     step_size=0.1, selected_types=None):\n",
    "    \"\"\"\n",
    "    Plan dubins path\n",
    "\n",
    "    Parameters\n",
    "    ----------\n",
    "    s_x : float\n",
    "        x position of the start point [m]\n",
    "    s_y : float\n",
    "        y position of the start point [m]\n",
    "    s_yaw : float\n",
    "        yaw angle of the start point [rad]\n",
    "    g_x : float\n",
    "        x position of the goal point [m]\n",
    "    g_y : float\n",
    "        y position of the end point [m]\n",
    "    g_yaw : float\n",
    "        yaw angle of the end point [rad]\n",
    "    curvature : float\n",
    "        curvature for curve [1/m]\n",
    "    step_size : float (optional)\n",
    "        step size between two path points [m]. Default is 0.1\n",
    "    selected_types : a list of string or None\n",
    "        selected path planning types. If None, all types are used for\n",
    "        path planning, and minimum path length result is returned.\n",
    "        You can select used path plannings types by a string list.\n",
    "        e.g.: [\"RSL\", \"RSR\"]\n",
    "\n",
    "    Returns\n",
    "    -------\n",
    "    x_list: array\n",
    "        x positions of the path\n",
    "    y_list: array\n",
    "        y positions of the path\n",
    "    yaw_list: array\n",
    "        yaw angles of the path\n",
    "    modes: array\n",
    "        mode list of the path\n",
    "    lengths: array\n",
    "        arrow_length list of the path segments.\n",
    "\n",
    "    Examples\n",
    "    --------\n",
    "    You can generate a dubins path.\n",
    "\n",
    "    >>> start_x = 1.0  # [m]\n",
    "    >>> start_y = 1.0  # [m]\n",
    "    >>> start_yaw = np.deg2rad(45.0)  # [rad]\n",
    "    >>> end_x = -3.0  # [m]\n",
    "    >>> end_y = -3.0  # [m]\n",
    "    >>> end_yaw = np.deg2rad(-45.0)  # [rad]\n",
    "    >>> curvature = 1.0\n",
    "    >>> path_x, path_y, path_yaw, mode, _ = plan_dubins_path(\n",
    "                start_x, start_y, start_yaw, end_x, end_y, end_yaw, curvature)\n",
    "    >>> plt.plot(path_x, path_y, label=\"final course \" + \"\".join(mode))\n",
    "    >>> plot_arrow(start_x, start_y, start_yaw)\n",
    "    >>> plot_arrow(end_x, end_y, end_yaw)\n",
    "    >>> plt.legend()\n",
    "    >>> plt.grid(True)\n",
    "    >>> plt.axis(\"equal\")\n",
    "    >>> plt.show()\n",
    "\n",
    "    .. image:: dubins_path.jpg\n",
    "    \"\"\"\n",
    "    if selected_types is None:\n",
    "        planning_funcs = _PATH_TYPE_MAP.values()\n",
    "    else:\n",
    "        planning_funcs = [_PATH_TYPE_MAP[ptype] for ptype in selected_types]\n",
    "\n",
    "    # calculate local goal x, y, yaw\n",
    "    l_rot = rot_mat_2d(s_yaw)\n",
    "    le_xy = np.stack([g_x - s_x, g_y - s_y]).T @ l_rot\n",
    "    local_goal_x = le_xy[0]\n",
    "    local_goal_y = le_xy[1]\n",
    "    local_goal_yaw = g_yaw - s_yaw\n",
    "\n",
    "    lp_x, lp_y, lp_yaw, modes, lengths = _dubins_path_planning_from_origin(\n",
    "        local_goal_x, local_goal_y, local_goal_yaw, curvature, step_size,\n",
    "        planning_funcs)\n",
    "\n",
    "    # Convert a local coordinate path to the global coordinate\n",
    "    rot = rot_mat_2d(-s_yaw)\n",
    "    converted_xy = np.stack([lp_x, lp_y]).T @ rot\n",
    "    x_list = converted_xy[:, 0] + s_x\n",
    "    y_list = converted_xy[:, 1] + s_y\n",
    "    yaw_list = angle_mod(np.array(lp_yaw) + s_yaw)\n",
    "\n",
    "    return x_list, y_list, yaw_list, modes, lengths\n",
    "\n",
    "\n",
    "def _mod2pi(theta):\n",
    "    return angle_mod(theta, zero_2_2pi=True)\n",
    "\n",
    "\n",
    "def _calc_trig_funcs(alpha, beta):\n",
    "    sin_a = sin(alpha)\n",
    "    sin_b = sin(beta)\n",
    "    cos_a = cos(alpha)\n",
    "    cos_b = cos(beta)\n",
    "    cos_ab = cos(alpha - beta)\n",
    "    return sin_a, sin_b, cos_a, cos_b, cos_ab\n",
    "\n",
    "\n",
    "def _LSL(alpha, beta, d):\n",
    "    sin_a, sin_b, cos_a, cos_b, cos_ab = _calc_trig_funcs(alpha, beta)\n",
    "    mode = [\"L\", \"S\", \"L\"]\n",
    "    p_squared = 2 + d ** 2 - (2 * cos_ab) + (2 * d * (sin_a - sin_b))\n",
    "    if p_squared < 0:  # invalid configuration\n",
    "        return None, None, None, mode\n",
    "    tmp = atan2((cos_b - cos_a), d + sin_a - sin_b)\n",
    "    d1 = _mod2pi(-alpha + tmp)\n",
    "    d2 = sqrt(p_squared)\n",
    "    d3 = _mod2pi(beta - tmp)\n",
    "    return d1, d2, d3, mode\n",
    "\n",
    "\n",
    "def _RSR(alpha, beta, d):\n",
    "    sin_a, sin_b, cos_a, cos_b, cos_ab = _calc_trig_funcs(alpha, beta)\n",
    "    mode = [\"R\", \"S\", \"R\"]\n",
    "    p_squared = 2 + d ** 2 - (2 * cos_ab) + (2 * d * (sin_b - sin_a))\n",
    "    if p_squared < 0:\n",
    "        return None, None, None, mode\n",
    "    tmp = atan2((cos_a - cos_b), d - sin_a + sin_b)\n",
    "    d1 = _mod2pi(alpha - tmp)\n",
    "    d2 = sqrt(p_squared)\n",
    "    d3 = _mod2pi(-beta + tmp)\n",
    "    return d1, d2, d3, mode\n",
    "\n",
    "\n",
    "def _LSR(alpha, beta, d):\n",
    "    sin_a, sin_b, cos_a, cos_b, cos_ab = _calc_trig_funcs(alpha, beta)\n",
    "    p_squared = -2 + d ** 2 + (2 * cos_ab) + (2 * d * (sin_a + sin_b))\n",
    "    mode = [\"L\", \"S\", \"R\"]\n",
    "    if p_squared < 0:\n",
    "        return None, None, None, mode\n",
    "    d1 = sqrt(p_squared)\n",
    "    tmp = atan2((-cos_a - cos_b), (d + sin_a + sin_b)) - atan2(-2.0, d1)\n",
    "    d2 = _mod2pi(-alpha + tmp)\n",
    "    d3 = _mod2pi(-_mod2pi(beta) + tmp)\n",
    "    return d2, d1, d3, mode\n",
    "\n",
    "\n",
    "def _RSL(alpha, beta, d):\n",
    "    sin_a, sin_b, cos_a, cos_b, cos_ab = _calc_trig_funcs(alpha, beta)\n",
    "    p_squared = d ** 2 - 2 + (2 * cos_ab) - (2 * d * (sin_a + sin_b))\n",
    "    mode = [\"R\", \"S\", \"L\"]\n",
    "    if p_squared < 0:\n",
    "        return None, None, None, mode\n",
    "    d1 = sqrt(p_squared)\n",
    "    tmp = atan2((cos_a + cos_b), (d - sin_a - sin_b)) - atan2(2.0, d1)\n",
    "    d2 = _mod2pi(alpha - tmp)\n",
    "    d3 = _mod2pi(beta - tmp)\n",
    "    return d2, d1, d3, mode\n",
    "\n",
    "\n",
    "def _RLR(alpha, beta, d):\n",
    "    sin_a, sin_b, cos_a, cos_b, cos_ab = _calc_trig_funcs(alpha, beta)\n",
    "    mode = [\"R\", \"L\", \"R\"]\n",
    "    tmp = (6.0 - d ** 2 + 2.0 * cos_ab + 2.0 * d * (sin_a - sin_b)) / 8.0\n",
    "    if abs(tmp) > 1.0:\n",
    "        return None, None, None, mode\n",
    "    d2 = _mod2pi(2 * pi - acos(tmp))\n",
    "    d1 = _mod2pi(alpha - atan2(cos_a - cos_b, d - sin_a + sin_b) + d2 / 2.0)\n",
    "    d3 = _mod2pi(alpha - beta - d1 + d2)\n",
    "    return d1, d2, d3, mode\n",
    "\n",
    "\n",
    "def _LRL(alpha, beta, d):\n",
    "    sin_a, sin_b, cos_a, cos_b, cos_ab = _calc_trig_funcs(alpha, beta)\n",
    "    mode = [\"L\", \"R\", \"L\"]\n",
    "    tmp = (6.0 - d ** 2 + 2.0 * cos_ab + 2.0 * d * (- sin_a + sin_b)) / 8.0\n",
    "    if abs(tmp) > 1.0:\n",
    "        return None, None, None, mode\n",
    "    d2 = _mod2pi(2 * pi - acos(tmp))\n",
    "    d1 = _mod2pi(-alpha - atan2(cos_a - cos_b, d + sin_a - sin_b) + d2 / 2.0)\n",
    "    d3 = _mod2pi(_mod2pi(beta) - alpha - d1 + _mod2pi(d2))\n",
    "    return d1, d2, d3, mode\n",
    "\n",
    "\n",
    "_PATH_TYPE_MAP = {\"LSL\": _LSL, \"RSR\": _RSR, \"LSR\": _LSR, \"RSL\": _RSL,\n",
    "                  \"RLR\": _RLR, \"LRL\": _LRL, }\n",
    "\n",
    "\n",
    "def _dubins_path_planning_from_origin(end_x, end_y, end_yaw, curvature,\n",
    "                                      step_size, planning_funcs):\n",
    "    dx = end_x\n",
    "    dy = end_y\n",
    "    d = hypot(dx, dy) * curvature\n",
    "\n",
    "    theta = _mod2pi(atan2(dy, dx))\n",
    "    alpha = _mod2pi(-theta)\n",
    "    beta = _mod2pi(end_yaw - theta)\n",
    "\n",
    "    best_cost = float(\"inf\")\n",
    "    b_d1, b_d2, b_d3, b_mode = None, None, None, None\n",
    "\n",
    "    for planner in planning_funcs:\n",
    "        d1, d2, d3, mode = planner(alpha, beta, d)\n",
    "        if d1 is None:\n",
    "            continue\n",
    "\n",
    "        cost = (abs(d1) + abs(d2) + abs(d3))\n",
    "        if best_cost > cost:  # Select minimum length one.\n",
    "            b_d1, b_d2, b_d3, b_mode, best_cost = d1, d2, d3, mode, cost\n",
    "\n",
    "    lengths = [b_d1, b_d2, b_d3]\n",
    "    x_list, y_list, yaw_list = _generate_local_course(lengths, b_mode,\n",
    "                                                      curvature, step_size)\n",
    "\n",
    "    lengths = [length / curvature for length in lengths]\n",
    "\n",
    "    return x_list, y_list, yaw_list, b_mode, lengths\n",
    "\n",
    "\n",
    "def _interpolate(length, mode, max_curvature, origin_x, origin_y,\n",
    "                 origin_yaw, path_x, path_y, path_yaw):\n",
    "    if mode == \"S\":\n",
    "        path_x.append(origin_x + length / max_curvature * cos(origin_yaw))\n",
    "        path_y.append(origin_y + length / max_curvature * sin(origin_yaw))\n",
    "        path_yaw.append(origin_yaw)\n",
    "    else:  # curve\n",
    "        ldx = sin(length) / max_curvature\n",
    "        ldy = 0.0\n",
    "        if mode == \"L\":  # left turn\n",
    "            ldy = (1.0 - cos(length)) / max_curvature\n",
    "        elif mode == \"R\":  # right turn\n",
    "            ldy = (1.0 - cos(length)) / -max_curvature\n",
    "        gdx = cos(-origin_yaw) * ldx + sin(-origin_yaw) * ldy\n",
    "        gdy = -sin(-origin_yaw) * ldx + cos(-origin_yaw) * ldy\n",
    "        path_x.append(origin_x + gdx)\n",
    "        path_y.append(origin_y + gdy)\n",
    "\n",
    "        if mode == \"L\":  # left turn\n",
    "            path_yaw.append(origin_yaw + length)\n",
    "        elif mode == \"R\":  # right turn\n",
    "            path_yaw.append(origin_yaw - length)\n",
    "\n",
    "    return path_x, path_y, path_yaw\n",
    "\n",
    "\n",
    "def _generate_local_course(lengths, modes, max_curvature, step_size):\n",
    "    p_x, p_y, p_yaw = [0.0], [0.0], [0.0]\n",
    "\n",
    "    for (mode, length) in zip(modes, lengths):\n",
    "        if length == 0.0:\n",
    "            continue\n",
    "\n",
    "        # set origin state\n",
    "        origin_x, origin_y, origin_yaw = p_x[-1], p_y[-1], p_yaw[-1]\n",
    "\n",
    "        current_length = step_size\n",
    "        while abs(current_length + step_size) <= abs(length):\n",
    "            p_x, p_y, p_yaw = _interpolate(current_length, mode, max_curvature,\n",
    "                                           origin_x, origin_y, origin_yaw,\n",
    "                                           p_x, p_y, p_yaw)\n",
    "            current_length += step_size\n",
    "\n",
    "        p_x, p_y, p_yaw = _interpolate(length, mode, max_curvature, origin_x,\n",
    "                                       origin_y, origin_yaw, p_x, p_y, p_yaw)\n",
    "\n",
    "    return p_x, p_y, p_yaw"
   ]
  },
  {
   "cell_type": "code",
   "execution_count": 774,
   "metadata": {},
   "outputs": [],
   "source": [
    "def mean_angle(v1, v2):\n",
    "    return (v1 + v2) / np.linalg.norm(v1 + v2)"
   ]
  },
  {
   "cell_type": "code",
   "execution_count": 775,
   "metadata": {},
   "outputs": [],
   "source": [
    "def etsp(points):\n",
    "    dist_matrix = distance_matrix(points, points)\n",
    "    n = len(points)\n",
    "    min_length = float('inf')\n",
    "    best_path = None\n",
    "    \n",
    "    for perm in permutations(range(n)):\n",
    "        current_length = sum(dist_matrix[perm[i], perm[i+1]] for i in range(n-1))\n",
    "        current_length += dist_matrix[perm[-1], perm[0]]\n",
    "        \n",
    "        if current_length < min_length:\n",
    "            min_length = current_length\n",
    "            best_path = perm\n",
    "            \n",
    "    return [points[i] for i in best_path]\n"
   ]
  },
  {
   "cell_type": "code",
   "execution_count": 776,
   "metadata": {},
   "outputs": [],
   "source": [
    "def dtsp(points, curvature):\n",
    "    n = len(points)\n",
    "    Q = []\n",
    "    PΣ = etsp(points)  # Solução inicial para o ETSP\n",
    "    print(\"etsp = \", PΣ)\n",
    "    \n",
    "    for i in range(n):\n",
    "        pi = np.array(PΣ[i])\n",
    "        pi_ant = np.array(PΣ[(i - 1) % n])\n",
    "        pi_sup = np.array(PΣ[(i + 1) % n])\n",
    "        v1 = (pi - pi_ant)/np.linalg.norm(pi - pi_ant)\n",
    "        v2 = (pi_sup - pi)/np.linalg.norm(pi_sup - pi)\n",
    "        orientation_angle_pi = mean_angle(v1, v2)\n",
    "\n",
    "        n1 = np.exp(-(np.linalg.norm(pi - pi_ant) - (2 * curvature)) / (curvature / 2))\n",
    "        n2 = np.exp(-(np.linalg.norm(pi_sup - pi) - (2 * curvature)) / (curvature / 2))\n",
    "        \n",
    "        if n1 > n2:\n",
    "            new_orientation_angle_pi = v1 - orientation_angle_pi\n",
    "        else:\n",
    "            new_orientation_angle_pi = v2 - orientation_angle_pi\n",
    "        \n",
    "        λ = abs(n1 - n2)\n",
    "        orientation_angle_pi = orientation_angle_pi + (λ * new_orientation_angle_pi)\n",
    "        qi = (PΣ[i], orientation_angle_pi)\n",
    "        Q.append(qi)\n",
    "    return Q\n"
   ]
  },
  {
   "cell_type": "markdown",
   "metadata": {},
   "source": [
    "## TESTES"
   ]
  },
  {
   "cell_type": "markdown",
   "metadata": {},
   "source": [
    "### TESTE 1"
   ]
  },
  {
   "cell_type": "code",
   "execution_count": null,
   "metadata": {},
   "outputs": [],
   "source": [
    "# points = np.array([\n",
    "#         [0, 0],\n",
    "#         [2, 4],\n",
    "#         [3, 1],\n",
    "#         [5, 2]\n",
    "#     ])"
   ]
  },
  {
   "cell_type": "markdown",
   "metadata": {},
   "source": [
    "### TESTE 2"
   ]
  },
  {
   "cell_type": "code",
   "execution_count": null,
   "metadata": {},
   "outputs": [],
   "source": [
    "points = np.array([\n",
    "        [0,0],\n",
    "        [-1.5, -1.8],\n",
    "        [-1.5, 2.5],\n",
    "        [1.5, 2.5],\n",
    "        [1.5, -1.8]\n",
    "    ])"
   ]
  },
  {
   "cell_type": "markdown",
   "metadata": {},
   "source": [
    "### TESTE 3"
   ]
  },
  {
   "cell_type": "code",
   "execution_count": null,
   "metadata": {},
   "outputs": [],
   "source": [
    "# points = np.array([\n",
    "#         [0,0],\n",
    "#         [1, 3],\n",
    "#         [4, 3],\n",
    "#         [6, 1],\n",
    "#         [3, 5],\n",
    "#         [5,5]\n",
    "#     ])"
   ]
  },
  {
   "cell_type": "code",
   "execution_count": 777,
   "metadata": {},
   "outputs": [
    {
     "name": "stdout",
     "output_type": "stream",
     "text": [
      "etsp =  [array([0., 0.]), array([-1.5, -1.8]), array([ 1.5, -1.8]), array([1.5, 2.5]), array([-1.5,  2.5])]\n",
      "[(array([0., 0.]), array([-0.27036746, -0.91848792])), (array([-1.5, -1.8]), array([ 0.03229137, -0.85501381])), (array([ 1.5, -1.8]), array([0.74380145, 0.61851801])), (array([1.5, 2.5]), array([-0.74380145,  0.61851801])), (array([-1.5,  2.5]), array([-0.46759383, -0.86988318]))]\n",
      "Point 0: [0. 0.], Angle: [-0.27036746 -0.91848792]\n",
      "Point 1: [-1.5 -1.8], Angle: [ 0.03229137 -0.85501381]\n",
      "Point 2: [ 1.5 -1.8], Angle: [0.74380145 0.61851801]\n",
      "Point 3: [1.5 2.5], Angle: [-0.74380145  0.61851801]\n",
      "Point 4: [-1.5  2.5], Angle: [-0.46759383 -0.86988318]\n"
     ]
    }
   ],
   "source": [
    "curvature = 1.0\n",
    "# curvature = 0.5\n",
    "configurations = dtsp(points, curvature)\n",
    "print(configurations)\n",
    "\n",
    "for i, (point, angle) in enumerate(configurations):\n",
    "        print(f\"Point {i}: {point}, Angle: {angle}\")"
   ]
  },
  {
   "cell_type": "markdown",
   "metadata": {},
   "source": [
    "## PLOTS"
   ]
  },
  {
   "cell_type": "markdown",
   "metadata": {},
   "source": [
    "### PLOT Solução sem curvas de Dubins"
   ]
  },
  {
   "cell_type": "code",
   "execution_count": 780,
   "metadata": {},
   "outputs": [
    {
     "data": {
      "image/png": "[encoded data removed]",
      "text/plain": [
       "<Figure size 640x480 with 1 Axes>"
      ]
     },
     "metadata": {},
     "output_type": "display_data"
    }
   ],
   "source": [
    "# Lista de cores\n",
    "colors = ['red', 'blue', 'purple', 'green']\n",
    "\n",
    "def plot_estp_path(configurations):\n",
    "    n = len(configurations)\n",
    "    fig, ax = plt.subplots()\n",
    "    for i in range(n):\n",
    "        point, vector = configurations[i]\n",
    "        end_point, vector_point = configurations[(i + 1 ) % n]\n",
    "        ax.plot(point[0], point[1], 'ro')  # Plota o ponto em azul\n",
    "        ax.quiver(point[0], point[1], vector[0], vector[1], angles='xy', scale_units='xy', scale=1, color='green')  # Plota o vetor\n",
    "        ax.plot([point[0], end_point[0]], [point[1], end_point[1]], colors[i % 4], label=f\"Segment {i+1}\")\n",
    "    X = np.array([point[0][0] for point in configurations])\n",
    "    Y = np.array([point[0][1] for point in configurations])\n",
    "    margin = 1  # Margem adicional para melhor visualização\n",
    "    ax.set_xlim(X.min() - margin, X.max() + margin)\n",
    "    ax.set_ylim(Y.min() - margin, Y.max() + margin)\n",
    "    plt.xlabel('X')\n",
    "    plt.ylabel('Y')\n",
    "    plt.title('Solução ESTP')\n",
    "    plt.grid()\n",
    "    ax.legend()\n",
    "    plt.show()\n",
    "\n",
    "plot_estp_path(configurations)"
   ]
  },
  {
   "cell_type": "markdown",
   "metadata": {},
   "source": [
    "### PLOT Solução com curvas de Dubins"
   ]
  },
  {
   "cell_type": "code",
   "execution_count": 781,
   "metadata": {},
   "outputs": [
    {
     "data": {
      "image/png": "[encoded data removed]",
      "text/plain": [
       "<Figure size 640x480 with 1 Axes>"
      ]
     },
     "metadata": {},
     "output_type": "display_data"
    },
    {
     "name": "stdout",
     "output_type": "stream",
     "text": [
      "22.940577336992433\n"
     ]
    }
   ],
   "source": [
    "\n",
    "def calculate_orientation_angle(vector):\n",
    "    return np.arctan2(vector[1], vector[0])\n",
    "\n",
    "\n",
    "def plot_dubins_path(configurations):\n",
    "    n = len(configurations)\n",
    "    fig, ax = plt.subplots()\n",
    "    final_distance = 0\n",
    "    for i in range(n):\n",
    "        point, vector = configurations[i]\n",
    "        end_point, vector_point = configurations[(i + 1 ) % n]\n",
    "\n",
    "        plt.plot(point[0], point[1], 'bo')  # Plota o ponto em azul\n",
    "        plt.quiver(point[0], point[1], vector[0], vector[1], angles='xy', scale_units='xy', scale=1, color='green')  # Plota o vetor\n",
    "\n",
    "        s_yaw = calculate_orientation_angle(vector)\n",
    "        e_yaw = calculate_orientation_angle(vector_point)\n",
    "        path_x, path_y, path_yaw, mode, lengths = plan_dubins_path(point[0],\n",
    "                                                            point[1],\n",
    "                                                            s_yaw,\n",
    "                                                            end_point[0],\n",
    "                                                            end_point[1],\n",
    "                                                            e_yaw,\n",
    "                                                            curvature)\n",
    "        ax.plot(path_x, path_y, colors[i % 3], label=f\"Segment {i+1}\")\n",
    "        final_distance += sum(lengths)\n",
    "    ax.set_xlim(-10, 10)\n",
    "    ax.set_ylim(-5, 15)\n",
    "    plt.xlabel('X')\n",
    "    plt.ylabel('Y')\n",
    "    plt.title('Pontos com Vetores de Orientação')\n",
    "    plt.grid()\n",
    "    ax.legend()\n",
    "    plt.show()\n",
    "    print(final_distance)\n",
    "\n",
    "plot_dubins_path(configurations)"
   ]
  },
  {
   "cell_type": "markdown",
   "metadata": {},
   "source": [
    "# COPPELIA"
   ]
  },
  {
   "cell_type": "code",
   "execution_count": 782,
   "metadata": {},
   "outputs": [],
   "source": [
    "from coppeliasim_zmqremoteapi_client import RemoteAPIClient"
   ]
  },
  {
   "cell_type": "code",
   "execution_count": 783,
   "metadata": {},
   "outputs": [],
   "source": [
    "# ---------------------------------------------- Init ----------------------------------------\n",
    "try:\n",
    "    client = RemoteAPIClient()\n",
    "    sim = client.require('sim')\n",
    "except:\n",
    "    print('Error connection')"
   ]
  },
  {
   "cell_type": "code",
   "execution_count": 784,
   "metadata": {},
   "outputs": [],
   "source": [
    "#Informações do Robô\n",
    "L = 0.230\n",
    "R = 0.035\n",
    "ROBOT = \"kobuki\"\n",
    "maxv = 1.0\n",
    "maxw = np.deg2rad(90)\n",
    "\n",
    "#Handles\n",
    "objectHandle_RP = sim.getObject(\"/\" + ROBOT)\n",
    "robotHandle = sim.getObject(\"/\" + ROBOT)  \n",
    "robotLeftMotorHandle = sim.getObject(\"/\" +'kobuki_leftMotor')\n",
    "robotRightMotorHandle = sim.getObject(\"/\" +'kobuki_rightMotor')\n",
    "\n",
    "robot_path = []\n"
   ]
  },
  {
   "cell_type": "code",
   "execution_count": 785,
   "metadata": {},
   "outputs": [],
   "source": [
    "def normalizeAngle(angle):\n",
    "    return np.mod(angle + np.pi, 2 * np.pi) - np.pi"
   ]
  },
  {
   "cell_type": "code",
   "execution_count": 786,
   "metadata": {},
   "outputs": [],
   "source": [
    "def navigation(qgoal):\n",
    "    d = np.inf\n",
    "    while d > 0.05:\n",
    "        #Configuração do robo\n",
    "        robotPos = sim.getObjectPosition(robotHandle, sim.handle_world)   \n",
    "        robotOri = sim.getObjectOrientation(objectHandle_RP, \n",
    "                                                sim.handle_world)\n",
    "        robotConfig = np.array([robotPos[0], robotPos[1], robotOri[2]])\n",
    "\n",
    "        robotPos = robotPos[0:2]\n",
    "        robot_path.append(robotPos)\n",
    "\n",
    "        # dx, dy, dth = qgoal - robotConfig\n",
    "\n",
    "        # d = np.sqrt(dx**2 + dy**2)\n",
    "        # alpha = normalizeAngle(-robotConfig[2] + np.arctan2(dy, dx))\n",
    "        # beta = normalizeAngle(qgoal[2] - np.arctan2(dy, dx))\n",
    "\n",
    "        # kr = 4 / 20\n",
    "        # ka = 8 / 20\n",
    "        # kb = -1.5 / 20\n",
    "\n",
    "        # if abs(alpha) > np.pi/2:\n",
    "        #     kr = -kr       \n",
    "        #     alpha = normalizeAngle(alpha - np.pi)\n",
    "        #     beta = normalizeAngle(beta - np.pi)\n",
    "\n",
    "        # v = kr * d\n",
    "        # w = ka * alpha + kb * beta\n",
    "\n",
    "        # v = max(min(v, maxv), -maxv)\n",
    "        # w = max(min(w, maxw), -maxw)\n",
    "\n",
    "        # wr = ((2.0 * v) + (w * L)) / (2.0 * R)\n",
    "        # wl = ((2.0 * v) - (w * L)) / (2.0 * R)\n",
    "        dx, dy = qgoal[:2] - robotConfig[:2]\n",
    "        \n",
    "        # Apenas para interromper o loop\n",
    "        d = np.sqrt(dx**2 + dy**2)\n",
    "                \n",
    "        kr = 1\n",
    "        kt = 2\n",
    "        \n",
    "        v = kr*(dx*np.cos(robotConfig[2]) + dy*np.sin(robotConfig[2]))\n",
    "        w = kt*(np.arctan2(dy,dx) - robotConfig[2])\n",
    "                \n",
    "        # Limit v,w to +/- max\n",
    "        v = max(min(v, maxv), -maxv)\n",
    "        w = max(min(w, maxw), -maxw)        \n",
    "        \n",
    "        wr = ((2.0*v) + (w*L))/(2.0*R)\n",
    "        wl = ((2.0*v) - (w*L))/(2.0*R)\n",
    "\n",
    "        sim.setJointTargetVelocity(robotRightMotorHandle, wr)\n",
    "        sim.setJointTargetVelocity(robotLeftMotorHandle, wl)"
   ]
  },
  {
   "cell_type": "code",
   "execution_count": 787,
   "metadata": {},
   "outputs": [
    {
     "name": "stdout",
     "output_type": "stream",
     "text": [
      "[0.0, 0.0, -1.8570721739891656]\n"
     ]
    }
   ],
   "source": [
    "dubins_list = list(configurations)\n",
    "start = dubins_list[0][0]\n",
    "qstart = [float(start[0]),float(start[1]),float(calculate_orientation_angle(dubins_list[0][1]))]\n",
    "print(qstart)"
   ]
  },
  {
   "cell_type": "code",
   "execution_count": 788,
   "metadata": {},
   "outputs": [
    {
     "name": "stdout",
     "output_type": "stream",
     "text": [
      "Ponto inicial =  [0. 0.] [-0.27036746 -0.91848792]\n",
      "Ponto final =  [-1.5 -1.8] [ 0.03229137 -0.85501381]\n",
      "-1.8570721739891656\n",
      "-1.533047188093073\n"
     ]
    },
    {
     "ename": "KeyboardInterrupt",
     "evalue": "",
     "output_type": "error",
     "traceback": [
      "\u001b[1;31m---------------------------------------------------------------------------\u001b[0m",
      "\u001b[1;31mKeyboardInterrupt\u001b[0m                         Traceback (most recent call last)",
      "Cell \u001b[1;32mIn[788], line 33\u001b[0m\n\u001b[0;32m     30\u001b[0m         dubins_path\u001b[38;5;241m.\u001b[39mappend(np\u001b[38;5;241m.\u001b[39marray([x,y,angle]))\n\u001b[0;32m     32\u001b[0m         \u001b[38;5;28;01mfor\u001b[39;00m qgoal \u001b[38;5;129;01min\u001b[39;00m dubins_path:\n\u001b[1;32m---> 33\u001b[0m             \u001b[43mnavigation\u001b[49m\u001b[43m(\u001b[49m\u001b[43mqgoal\u001b[49m\u001b[43m)\u001b[49m\n\u001b[0;32m     35\u001b[0m sim\u001b[38;5;241m.\u001b[39msetJointTargetVelocity(robotRightMotorHandle, \u001b[38;5;241m0\u001b[39m)\n\u001b[0;32m     36\u001b[0m sim\u001b[38;5;241m.\u001b[39msetJointTargetVelocity(robotLeftMotorHandle, \u001b[38;5;241m0\u001b[39m)\n",
      "Cell \u001b[1;32mIn[786], line 6\u001b[0m, in \u001b[0;36mnavigation\u001b[1;34m(qgoal)\u001b[0m\n\u001b[0;32m      3\u001b[0m \u001b[38;5;28;01mwhile\u001b[39;00m d \u001b[38;5;241m>\u001b[39m \u001b[38;5;241m0.05\u001b[39m:\n\u001b[0;32m      4\u001b[0m     \u001b[38;5;66;03m#Configuração do robo\u001b[39;00m\n\u001b[0;32m      5\u001b[0m     robotPos \u001b[38;5;241m=\u001b[39m sim\u001b[38;5;241m.\u001b[39mgetObjectPosition(robotHandle, sim\u001b[38;5;241m.\u001b[39mhandle_world)   \n\u001b[1;32m----> 6\u001b[0m     robotOri \u001b[38;5;241m=\u001b[39m \u001b[43msim\u001b[49m\u001b[38;5;241;43m.\u001b[39;49m\u001b[43mgetObjectOrientation\u001b[49m\u001b[43m(\u001b[49m\u001b[43mobjectHandle_RP\u001b[49m\u001b[43m,\u001b[49m\u001b[43m \u001b[49m\n\u001b[0;32m      7\u001b[0m \u001b[43m                                            \u001b[49m\u001b[43msim\u001b[49m\u001b[38;5;241;43m.\u001b[39;49m\u001b[43mhandle_world\u001b[49m\u001b[43m)\u001b[49m\n\u001b[0;32m      8\u001b[0m     robotConfig \u001b[38;5;241m=\u001b[39m np\u001b[38;5;241m.\u001b[39marray([robotPos[\u001b[38;5;241m0\u001b[39m], robotPos[\u001b[38;5;241m1\u001b[39m], robotOri[\u001b[38;5;241m2\u001b[39m]])\n\u001b[0;32m     10\u001b[0m     robotPos \u001b[38;5;241m=\u001b[39m robotPos[\u001b[38;5;241m0\u001b[39m:\u001b[38;5;241m2\u001b[39m]\n",
      "File \u001b[1;32mc:\\Users\\ADM\\AppData\\Local\\Programs\\Python\\Python311\\Lib\\site-packages\\coppeliasim_zmqremoteapi_client\\__init__.py:161\u001b[0m, in \u001b[0;36mRemoteAPIClient.getObject.<locals>.<lambda>\u001b[1;34m(func, *a)\u001b[0m\n\u001b[0;32m    159\u001b[0m     \u001b[38;5;28;01mraise\u001b[39;00m \u001b[38;5;167;01mValueError\u001b[39;00m(\u001b[38;5;124m'\u001b[39m\u001b[38;5;124mfound nondict\u001b[39m\u001b[38;5;124m'\u001b[39m)\n\u001b[0;32m    160\u001b[0m \u001b[38;5;28;01mif\u001b[39;00m \u001b[38;5;28mlen\u001b[39m(v) \u001b[38;5;241m==\u001b[39m \u001b[38;5;241m1\u001b[39m \u001b[38;5;129;01mand\u001b[39;00m \u001b[38;5;124m'\u001b[39m\u001b[38;5;124mfunc\u001b[39m\u001b[38;5;124m'\u001b[39m \u001b[38;5;129;01min\u001b[39;00m v:\n\u001b[1;32m--> 161\u001b[0m     \u001b[38;5;28msetattr\u001b[39m(ret, k, \u001b[38;5;28;01mlambda\u001b[39;00m \u001b[38;5;241m*\u001b[39ma, func\u001b[38;5;241m=\u001b[39m\u001b[38;5;124mf\u001b[39m\u001b[38;5;124m'\u001b[39m\u001b[38;5;132;01m{\u001b[39;00mname\u001b[38;5;132;01m}\u001b[39;00m\u001b[38;5;124m.\u001b[39m\u001b[38;5;132;01m{\u001b[39;00mk\u001b[38;5;132;01m}\u001b[39;00m\u001b[38;5;124m'\u001b[39m: \u001b[38;5;28;43mself\u001b[39;49m\u001b[38;5;241;43m.\u001b[39;49m\u001b[43mcall\u001b[49m\u001b[43m(\u001b[49m\u001b[43mfunc\u001b[49m\u001b[43m,\u001b[49m\u001b[43m \u001b[49m\u001b[43ma\u001b[49m\u001b[43m)\u001b[49m)\n\u001b[0;32m    162\u001b[0m \u001b[38;5;28;01melif\u001b[39;00m \u001b[38;5;28mlen\u001b[39m(v) \u001b[38;5;241m==\u001b[39m \u001b[38;5;241m1\u001b[39m \u001b[38;5;129;01mand\u001b[39;00m \u001b[38;5;124m'\u001b[39m\u001b[38;5;124mconst\u001b[39m\u001b[38;5;124m'\u001b[39m \u001b[38;5;129;01min\u001b[39;00m v:\n\u001b[0;32m    163\u001b[0m     \u001b[38;5;28msetattr\u001b[39m(ret, k, v[\u001b[38;5;124m'\u001b[39m\u001b[38;5;124mconst\u001b[39m\u001b[38;5;124m'\u001b[39m])\n",
      "File \u001b[1;32mc:\\Users\\ADM\\AppData\\Local\\Programs\\Python\\Python311\\Lib\\site-packages\\coppeliasim_zmqremoteapi_client\\__init__.py:124\u001b[0m, in \u001b[0;36mRemoteAPIClient.call\u001b[1;34m(self, func, args)\u001b[0m\n\u001b[0;32m    121\u001b[0m \u001b[38;5;28;01mdef\u001b[39;00m \u001b[38;5;21mcall\u001b[39m(\u001b[38;5;28mself\u001b[39m, func, args):\n\u001b[0;32m    122\u001b[0m     \u001b[38;5;66;03m# Call function with specified arguments. Is reentrant\u001b[39;00m\n\u001b[0;32m    123\u001b[0m     \u001b[38;5;28mself\u001b[39m\u001b[38;5;241m.\u001b[39m_send({\u001b[38;5;124m'\u001b[39m\u001b[38;5;124mfunc\u001b[39m\u001b[38;5;124m'\u001b[39m: func, \u001b[38;5;124m'\u001b[39m\u001b[38;5;124margs\u001b[39m\u001b[38;5;124m'\u001b[39m: args})\n\u001b[1;32m--> 124\u001b[0m     reply \u001b[38;5;241m=\u001b[39m \u001b[38;5;28;43mself\u001b[39;49m\u001b[38;5;241;43m.\u001b[39;49m\u001b[43m_recv\u001b[49m\u001b[43m(\u001b[49m\u001b[43m)\u001b[49m\n\u001b[0;32m    125\u001b[0m     \u001b[38;5;28;01mwhile\u001b[39;00m \u001b[38;5;28misinstance\u001b[39m(reply, \u001b[38;5;28mdict\u001b[39m) \u001b[38;5;129;01mand\u001b[39;00m \u001b[38;5;124m'\u001b[39m\u001b[38;5;124mfunc\u001b[39m\u001b[38;5;124m'\u001b[39m \u001b[38;5;129;01min\u001b[39;00m reply:\n\u001b[0;32m    126\u001b[0m         \u001b[38;5;66;03m# We have a callback or a wait/repeat:\u001b[39;00m\n\u001b[0;32m    127\u001b[0m         \u001b[38;5;28;01mif\u001b[39;00m reply[\u001b[38;5;124m'\u001b[39m\u001b[38;5;124mfunc\u001b[39m\u001b[38;5;124m'\u001b[39m] \u001b[38;5;241m==\u001b[39m \u001b[38;5;124m'\u001b[39m\u001b[38;5;124m_*wait*_\u001b[39m\u001b[38;5;124m'\u001b[39m:\n",
      "File \u001b[1;32mc:\\Users\\ADM\\AppData\\Local\\Programs\\Python\\Python311\\Lib\\site-packages\\coppeliasim_zmqremoteapi_client\\__init__.py:106\u001b[0m, in \u001b[0;36mRemoteAPIClient._recv\u001b[1;34m(self)\u001b[0m\n\u001b[0;32m    105\u001b[0m \u001b[38;5;28;01mdef\u001b[39;00m \u001b[38;5;21m_recv\u001b[39m(\u001b[38;5;28mself\u001b[39m):\n\u001b[1;32m--> 106\u001b[0m     rawResp \u001b[38;5;241m=\u001b[39m \u001b[38;5;28;43mself\u001b[39;49m\u001b[38;5;241;43m.\u001b[39;49m\u001b[43msocket\u001b[49m\u001b[38;5;241;43m.\u001b[39;49m\u001b[43mrecv\u001b[49m\u001b[43m(\u001b[49m\u001b[43m)\u001b[49m\n\u001b[0;32m    107\u001b[0m     \u001b[38;5;28;01mif\u001b[39;00m \u001b[38;5;28mself\u001b[39m\u001b[38;5;241m.\u001b[39mverbose \u001b[38;5;241m>\u001b[39m \u001b[38;5;241m1\u001b[39m:\n\u001b[0;32m    108\u001b[0m         \u001b[38;5;28mprint\u001b[39m(\u001b[38;5;124mf\u001b[39m\u001b[38;5;124m'\u001b[39m\u001b[38;5;124mReceived raw len=\u001b[39m\u001b[38;5;132;01m{\u001b[39;00m\u001b[38;5;28mlen\u001b[39m(rawResp)\u001b[38;5;132;01m}\u001b[39;00m\u001b[38;5;124m, base64=\u001b[39m\u001b[38;5;132;01m{\u001b[39;00mb64(rawResp)\u001b[38;5;132;01m}\u001b[39;00m\u001b[38;5;124m'\u001b[39m)\n",
      "File \u001b[1;32mzmq\\backend\\cython\\socket.pyx:805\u001b[0m, in \u001b[0;36mzmq.backend.cython.socket.Socket.recv\u001b[1;34m()\u001b[0m\n",
      "File \u001b[1;32mzmq\\backend\\cython\\socket.pyx:841\u001b[0m, in \u001b[0;36mzmq.backend.cython.socket.Socket.recv\u001b[1;34m()\u001b[0m\n",
      "File \u001b[1;32mzmq\\backend\\cython\\socket.pyx:194\u001b[0m, in \u001b[0;36mzmq.backend.cython.socket._recv_copy\u001b[1;34m()\u001b[0m\n",
      "File \u001b[1;32m~\\AppData\\Roaming\\Python\\Python311\\site-packages\\zmq\\backend\\cython\\checkrc.pxd:13\u001b[0m, in \u001b[0;36mzmq.backend.cython.checkrc._check_rc\u001b[1;34m()\u001b[0m\n",
      "\u001b[1;31mKeyboardInterrupt\u001b[0m: "
     ]
    }
   ],
   "source": [
    "dubins_list = list(configurations)\n",
    "start = dubins_list[0][0]\n",
    "qstart = [float(start[0]),float(start[1]), 0]\n",
    "orientation = float(calculate_orientation_angle(dubins_list[0][1]))\n",
    "sim.startSimulation()\n",
    "\n",
    "sim.setObjectPosition(robotHandle, qstart)\n",
    "sim.setObjectOrientation(robotHandle, [0,0,orientation])\n",
    "\n",
    "n = len(configurations)\n",
    "for i in range(n):\n",
    "    dubins_path = []\n",
    "    point, vector = configurations[i]\n",
    "    print(\"Ponto inicial = \", point, vector)\n",
    "    end_point, vector_point = configurations[(i + 1 ) % n]\n",
    "    print(\"Ponto final = \", end_point, vector_point)\n",
    "    s_yaw = calculate_orientation_angle(vector)\n",
    "    e_yaw = calculate_orientation_angle(vector_point)\n",
    "    print(s_yaw)\n",
    "    print(e_yaw)\n",
    "    path_x, path_y, path_yaw, mode, lengths = plan_dubins_path(point[0],\n",
    "                                                            point[1],\n",
    "                                                            s_yaw,\n",
    "                                                            end_point[0],\n",
    "                                                            end_point[1],\n",
    "                                                            e_yaw,\n",
    "                                                            curvature)\n",
    "\n",
    "    for x, y, angle in zip(path_x, path_y, path_yaw):\n",
    "        dubins_path.append(np.array([x,y,angle]))\n",
    "\n",
    "        for qgoal in dubins_path:\n",
    "            navigation(qgoal)\n",
    "\n",
    "sim.setJointTargetVelocity(robotRightMotorHandle, 0)\n",
    "sim.setJointTargetVelocity(robotLeftMotorHandle, 0)\n",
    "sim.stopSimulation()"
   ]
  },
  {
   "cell_type": "code",
   "execution_count": null,
   "metadata": {},
   "outputs": [
    {
     "ename": "IndexError",
     "evalue": "too many indices for array: array is 1-dimensional, but 2 were indexed",
     "output_type": "error",
     "traceback": [
      "\u001b[1;31m---------------------------------------------------------------------------\u001b[0m",
      "\u001b[1;31mIndexError\u001b[0m                                Traceback (most recent call last)",
      "Cell \u001b[1;32mIn[533], line 2\u001b[0m\n\u001b[0;32m      1\u001b[0m robot_path \u001b[38;5;241m=\u001b[39m np\u001b[38;5;241m.\u001b[39marray(robot_path)\n\u001b[1;32m----> 2\u001b[0m plt\u001b[38;5;241m.\u001b[39mplot(\u001b[43mrobot_path\u001b[49m\u001b[43m[\u001b[49m\u001b[43m:\u001b[49m\u001b[43m,\u001b[49m\u001b[43m \u001b[49m\u001b[38;5;241;43m0\u001b[39;49m\u001b[43m]\u001b[49m, robot_path[:, \u001b[38;5;241m1\u001b[39m], \u001b[38;5;124m'\u001b[39m\u001b[38;5;124m-r\u001b[39m\u001b[38;5;124m'\u001b[39m, label\u001b[38;5;241m=\u001b[39m\u001b[38;5;124m'\u001b[39m\u001b[38;5;124mCaminho do Robô\u001b[39m\u001b[38;5;124m'\u001b[39m)\n\u001b[0;32m      3\u001b[0m plt\u001b[38;5;241m.\u001b[39mxlabel(\u001b[38;5;124m'\u001b[39m\u001b[38;5;124mX\u001b[39m\u001b[38;5;124m'\u001b[39m)\n\u001b[0;32m      4\u001b[0m plt\u001b[38;5;241m.\u001b[39mylabel(\u001b[38;5;124m'\u001b[39m\u001b[38;5;124mY\u001b[39m\u001b[38;5;124m'\u001b[39m)\n",
      "\u001b[1;31mIndexError\u001b[0m: too many indices for array: array is 1-dimensional, but 2 were indexed"
     ]
    }
   ],
   "source": [
    "robot_path = np.array(robot_path)\n",
    "plt.plot(robot_path[:, 0], robot_path[:, 1], '-r', label='Caminho do Robô')\n",
    "plt.xlabel('X')\n",
    "plt.ylabel('Y')\n",
    "plt.title('Caminho do Robô')\n",
    "plt.legend()\n",
    "plt.grid(True)\n",
    "plt.axis('equal')\n",
    "plt.savefig(\"robot_path.png\")\n",
    "plt.show()"
   ]
  }
 ],
 "metadata": {
  "kernelspec": {
   "display_name": "Python 3",
   "language": "python",
   "name": "python3"
  },
  "language_info": {
   "codemirror_mode": {
    "name": "ipython",
    "version": 3
   },
   "file_extension": ".py",
   "mimetype": "text/x-python",
   "name": "python",
   "nbconvert_exporter": "python",
   "pygments_lexer": "ipython3",
   "version": "3.11.4"
  }
 },
 "nbformat": 4,
 "nbformat_minor": 2
}
